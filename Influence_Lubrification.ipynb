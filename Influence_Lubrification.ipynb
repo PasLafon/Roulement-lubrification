{
 "cells": [
  {
   "cell_type": "markdown",
   "metadata": {},
   "source": [
    "# TD TN20 : Roulements\n",
    "## Influence de la lubrification"
   ]
  },
  {
   "cell_type": "markdown",
   "metadata": {},
   "source": [
    "### Choix de l'huile adéquate"
   ]
  },
  {
   "cell_type": "code",
   "execution_count": 19,
   "metadata": {},
   "outputs": [],
   "source": [
    "## Données catalogue du roulement 6307 ZZ (cf doc TD)\n",
    "d = 35     # Diam. intérieur mm\n",
    "D = 80     # Diam. extérieur mm\n",
    "B = 21     # Largeur mm\n",
    "C  = 33500 # Capacité de charge en dynamique N\n",
    "C0 = 19100 # Capacité de charge en statique N\n",
    "Pu = 815   # Limite de fatigue N"
   ]
  },
  {
   "cell_type": "markdown",
   "metadata": {},
   "source": [
    "<img src=\"Viscosite_diametre_vitesse_SKF.png\" width=\"700\"/>"
   ]
  },
  {
   "cell_type": "code",
   "execution_count": 21,
   "metadata": {},
   "outputs": [
    {
     "name": "stdout",
     "output_type": "stream",
     "text": [
      "Diametre moyen dm :57.50 mm\n"
     ]
    }
   ],
   "source": [
    "dm = (d+D)/2\n",
    "print('Diametre moyen dm :%.2f mm'%dm)"
   ]
  },
  {
   "cell_type": "markdown",
   "metadata": {},
   "source": [
    "Sur ce diagramme on lit pour 3500 tr/min : viscosité : $\\nu=$8 mm$^2$/s\n",
    "\n",
    "Donc l'huile adéquate doit avoir cette viscosité à la température de fonctionnement de 110°C.\n",
    "On note $\\nu_1=$8 mm$^2$/s cette viscosité \"optimale\"."
   ]
  },
  {
   "cell_type": "markdown",
   "metadata": {},
   "source": [
    "<img src=\"Viscosite_temperature_SKF.png\" width=\"700\"/>"
   ]
  },
  {
   "cell_type": "markdown",
   "metadata": {},
   "source": [
    "Sur diagramme 6 on lit pour une abscisse à 110°C et une ordonnée à 8 mm$^2$/s, une intersection proche de la courbe ISO VG68.\n",
    "\n",
    "Donc cette huile aura la viscosité souhaitée à 110°C.\n",
    "L'huile VG320 est trop visqueuse, à la même température elle aura une viscosité de 20 mm$^2$/s environ."
   ]
  },
  {
   "cell_type": "markdown",
   "metadata": {},
   "source": [
    "### Durée de vie pour une fiabilité de 0.9 (90%)"
   ]
  },
  {
   "cell_type": "markdown",
   "metadata": {},
   "source": [
    "<div class=\"alert alert-info\">\n",
    "Expression de la durée de vie en millions de tours (cf cours de TN20) :\n",
    "\n",
    "$$L=a_1.a_\\text{SKF}\\left(\\frac{\\delta_\\theta C}{P}\\right)^n$$\n",
    "<ul>\n",
    "    <li>$C$ : Capacité de charge dynamique du roulement.</li>  \n",
    "    <li>$P$ : Charge radiale équivalente.</li>  \n",
    "    <li>$n=$3 , pour les billes et $n=$10/3 pour les rouleaux.</li>  \n",
    "    <li>$a_1 =\\left(\\frac{\\ln f}{\\ln f_{10}}\\right)^\\frac{2}{3}$ : facteur de fiabilité pour la fiabilité $f$, avec $f_{10}=$0.9 la fiabilité de référence à 90%.</li>\n",
    "    <li>$a_\\text{SKF}$ : facteur de lubrification (cf courbe SKF).</li>\n",
    "    <li>$\\delta_\\theta$ : facteur de température.</li>\n",
    "    <img src=\"roulement_facteur_temperature.png\" width=\"400\"/>\n",
    " </ul>\n",
    "</div>"
   ]
  },
  {
   "cell_type": "markdown",
   "metadata": {},
   "source": [
    "Calcul de la charge radiale équivalente pour un roulement rigide à billes :"
   ]
  },
  {
   "cell_type": "markdown",
   "metadata": {},
   "source": [
    "<div class=\"alert alert-info\">\n",
    "<img src=\"duree_vie_roulement_rigide_billes.svg\" width=\"600\">\n",
    "    </div>"
   ]
  },
  {
   "cell_type": "markdown",
   "metadata": {},
   "source": [
    "#### On commence par déterminer la charge radiale équivalente :\n",
    "\n",
    "Calcul de $F_a/C_0$ :"
   ]
  },
  {
   "cell_type": "code",
   "execution_count": 6,
   "metadata": {},
   "outputs": [
    {
     "name": "stdout",
     "output_type": "stream",
     "text": [
      "Fa/C0 : 0.366\n"
     ]
    }
   ],
   "source": [
    "Fr = 25000\n",
    "Fa = 7000\n",
    "print('Fa/C0 : %.3f'%(Fa/C0))"
   ]
  },
  {
   "cell_type": "markdown",
   "metadata": {},
   "source": [
    "Calcul de $e$ pour un jeu normal :\n",
    "\n",
    "Ici, on détermine $e$ par interpolation :"
   ]
  },
  {
   "cell_type": "code",
   "execution_count": 38,
   "metadata": {},
   "outputs": [
    {
     "name": "stdout",
     "output_type": "stream",
     "text": [
      "e : 0.402\n"
     ]
    },
    {
     "data": {
      "image/png": "[encoded data removed]",
      "text/plain": [
       "<Figure size 432x288 with 1 Axes>"
      ]
     },
     "metadata": {
      "needs_background": "light"
     },
     "output_type": "display_data"
    }
   ],
   "source": [
    "# Petit graphique d'explication :\n",
    "import matplotlib.pyplot as plt\n",
    "plt.plot([00.25,0.5],[0.37,0.44],'r-')\n",
    "plt.plot([0.25,0.366,0.366],[0.37,0.37,0.402],'g-')\n",
    "plt.xticks([0.25,0.366,0.5])\n",
    "plt.yticks([0.37,0.402,0.44])\n",
    "plt.grid()\n",
    "\n",
    "# Le calcul d'interpolation :\n",
    "e = (0.44-0.37)/(0.5-0.25)*(0.366-0.25) + 0.37\n",
    "print('e : %.3f'%e)"
   ]
  },
  {
   "cell_type": "code",
   "execution_count": 18,
   "metadata": {},
   "outputs": [
    {
     "name": "stdout",
     "output_type": "stream",
     "text": [
      "Fa/Fr : 0.280\n"
     ]
    }
   ],
   "source": [
    "print('Fa/Fr : %.3f'%(Fa/Fr))"
   ]
  },
  {
   "cell_type": "markdown",
   "metadata": {},
   "source": [
    "$F_a/F_r \\leq e$ donc $P=F_r$"
   ]
  },
  {
   "cell_type": "code",
   "execution_count": 7,
   "metadata": {},
   "outputs": [],
   "source": [
    "P = Fr"
   ]
  },
  {
   "cell_type": "markdown",
   "metadata": {},
   "source": [
    "#### Calcul des coefficients .."
   ]
  },
  {
   "cell_type": "markdown",
   "metadata": {},
   "source": [
    "<ul>\n",
    "    <li>$a_1=\\left(\\frac{\\ln 0.9}{\\ln 0.9}\\right)^\\frac{2}{3}=1$ pour un fiabilité à 90%</li><br>\n",
    "     <li>$\\delta_\\theta=$1 à 110°C</li><br>\n",
    "     <li> Pour $a_\\text{SKF}$ il faut déteminer $P_u/P$ et $k=\\nu/\\nu_1$ pour utiliser la courbe fournie par SKF avec $\\nu_1$ viscosité optimale et $\\nu$ la viscosité de l'huide de lubrification.</li>\n",
    "    </ul>"
   ]
  },
  {
   "cell_type": "code",
   "execution_count": 9,
   "metadata": {},
   "outputs": [
    {
     "name": "stdout",
     "output_type": "stream",
     "text": [
      "Pu/P : 0.033\n"
     ]
    }
   ],
   "source": [
    "print('Pu/P : %.3f'%(Pu/P))"
   ]
  },
  {
   "cell_type": "markdown",
   "metadata": {},
   "source": [
    "Ici $k=1$ car l'huile à la viscosité idéale, sur la courbe ci-dessous on lit : $a_\\text{SKF}$=0.8"
   ]
  },
  {
   "cell_type": "markdown",
   "metadata": {},
   "source": [
    "<img src=\"Coef_askf_billes_SKF.png\" width=\"700\"/>"
   ]
  },
  {
   "cell_type": "markdown",
   "metadata": {},
   "source": [
    "*Remarque :*\n",
    "\n",
    "* Avec l'huile VG220 on aurait $\\nu=$20 mm$^2$/s et $k=20/8\\simeq 3$ on lirait $a_\\text{SKF}>$1.0 la durée de vie augmenterait mais les pertes par frottement (et donc l'echauffement) aussi."
   ]
  },
  {
   "cell_type": "markdown",
   "metadata": {},
   "source": [
    "### Durée de vie :"
   ]
  },
  {
   "cell_type": "code",
   "execution_count": 12,
   "metadata": {},
   "outputs": [
    {
     "name": "stdout",
     "output_type": "stream",
     "text": [
      "Durée de vie en Millions de Tours : 1.925\n"
     ]
    }
   ],
   "source": [
    "n=3\n",
    "a1=1\n",
    "askf=0.8\n",
    "L = a1*askf*(C/P)**n\n",
    "print ('Durée de vie en Millions de Tours : %.3f'%L)"
   ]
  },
  {
   "cell_type": "markdown",
   "metadata": {},
   "source": [
    "Soit en heures :"
   ]
  },
  {
   "cell_type": "code",
   "execution_count": 18,
   "metadata": {},
   "outputs": [
    {
     "name": "stdout",
     "output_type": "stream",
     "text": [
      "Durée de vie en heures : 9.166 h\n"
     ]
    }
   ],
   "source": [
    "Lh = L*1e6/(3500*60)\n",
    "print ('Durée de vie en heures : %.3f h'%Lh)"
   ]
  },
  {
   "cell_type": "markdown",
   "metadata": {},
   "source": [
    "Ordre de grandeur de durée nécessaire en heures :\n",
    "* Voiture (roulement de roue, de boîte de vitesses, d'accessoires, ..) : 200 000 km à 50km/h soit 4000 heures.\n",
    "* Broche de machine outil : amortissement sur 5 ans à 16h/jours -> 5 x 200 x 16 soit 16000 heures.\n",
    "* Machine électroportative pour le bricolage : quelques heures d'usage sur la vie produit.\n",
    "* Train : 25 ans à 300 jours/an et 16heures/jour : 25 x 300 x 16 soit 120000 heures -> prévoir des opérations de maintenance régulière pour changer les roulements compte tenu des charges supportées."
   ]
  },
  {
   "cell_type": "markdown",
   "metadata": {},
   "source": []
  }
 ],
 "metadata": {
  "kernelspec": {
   "display_name": "Python 3",
   "language": "python",
   "name": "python3"
  },
  "language_info": {
   "codemirror_mode": {
    "name": "ipython",
    "version": 3
   },
   "file_extension": ".py",
   "mimetype": "text/x-python",
   "name": "python",
   "nbconvert_exporter": "python",
   "pygments_lexer": "ipython3",
   "version": "3.7.7"
  }
 },
 "nbformat": 4,
 "nbformat_minor": 4
}
